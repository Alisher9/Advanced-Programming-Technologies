{
 "cells": [
  {
   "cell_type": "code",
   "execution_count": 60,
   "id": "936a11c8",
   "metadata": {},
   "outputs": [],
   "source": [
    "import requests\n",
    "import re # regular expressions\n",
    "from bs4 import BeautifulSoup\n",
    "from selenium import webdriver\n",
    "import pandas as pd"
   ]
  },
  {
   "cell_type": "code",
   "execution_count": 69,
   "id": "69203d78",
   "metadata": {},
   "outputs": [],
   "source": [
    "CHROME_DRIVER_PATH = r'C:\\Users\\FLOX\\ChromeDriver\\chromedriver.exe'\n",
    "driver = webdriver.Chrome(CHROME_DRIVER_PATH)"
   ]
  },
  {
   "cell_type": "code",
   "execution_count": 70,
   "id": "99e87cd6",
   "metadata": {},
   "outputs": [],
   "source": [
    "# step 1\n",
    "URL = 'https://skillbox.kz/courses/?type_course=course'"
   ]
  },
  {
   "cell_type": "code",
   "execution_count": 71,
   "id": "cb4b8c66",
   "metadata": {},
   "outputs": [],
   "source": [
    "driver.get(URL)"
   ]
  },
  {
   "cell_type": "code",
   "execution_count": 87,
   "id": "8261b831",
   "metadata": {},
   "outputs": [],
   "source": [
    "content = driver.page_source\n",
    "soup = BeautifulSoup(content)"
   ]
  },
  {
   "cell_type": "code",
   "execution_count": 88,
   "id": "3072ff3c",
   "metadata": {},
   "outputs": [],
   "source": [
    "names = []\n",
    "time = []\n",
    "for block in soup.findAll('a', attrs={'class':'card card_course'}):\n",
    "    name_str = block.find('div', attrs={'class': 'card__title h--4'}).text\n",
    "    time_str = block.find('b', attrs={'class': 'card__count'}).text\n",
    "    names.append(name_str)\n",
    "    time.append(time_str)"
   ]
  },
  {
   "cell_type": "code",
   "execution_count": 89,
   "id": "d40dcaa0",
   "metadata": {},
   "outputs": [],
   "source": [
    "data = {\n",
    "    'Name': names,\n",
    "    'Count_of_Mounth': time\n",
    "}\n",
    "df = pd.DataFrame(data)"
   ]
  },
  {
   "cell_type": "code",
   "execution_count": 90,
   "id": "2c1f4dfc",
   "metadata": {
    "scrolled": false
   },
   "outputs": [
    {
     "data": {
      "text/html": [
       "<div>\n",
       "<style scoped>\n",
       "    .dataframe tbody tr th:only-of-type {\n",
       "        vertical-align: middle;\n",
       "    }\n",
       "\n",
       "    .dataframe tbody tr th {\n",
       "        vertical-align: top;\n",
       "    }\n",
       "\n",
       "    .dataframe thead th {\n",
       "        text-align: right;\n",
       "    }\n",
       "</style>\n",
       "<table border=\"1\" class=\"dataframe\">\n",
       "  <thead>\n",
       "    <tr style=\"text-align: right;\">\n",
       "      <th></th>\n",
       "      <th>Name</th>\n",
       "      <th>Count_of_Mounth</th>\n",
       "    </tr>\n",
       "  </thead>\n",
       "  <tbody>\n",
       "    <tr>\n",
       "      <th>0</th>\n",
       "      <td>Бизнес-английский: навыки деловой переписки</td>\n",
       "      <td>3</td>\n",
       "    </tr>\n",
       "    <tr>\n",
       "      <th>1</th>\n",
       "      <td>Разработка стратегии в условиях неопределенности</td>\n",
       "      <td>8</td>\n",
       "    </tr>\n",
       "    <tr>\n",
       "      <th>2</th>\n",
       "      <td>Project Manager</td>\n",
       "      <td>4</td>\n",
       "    </tr>\n",
       "    <tr>\n",
       "      <th>3</th>\n",
       "      <td>Управление разработкой продукта</td>\n",
       "      <td>1</td>\n",
       "    </tr>\n",
       "    <tr>\n",
       "      <th>4</th>\n",
       "      <td>Нематериальная мотивация</td>\n",
       "      <td>2</td>\n",
       "    </tr>\n",
       "    <tr>\n",
       "      <th>...</th>\n",
       "      <td>...</td>\n",
       "      <td>...</td>\n",
       "    </tr>\n",
       "    <tr>\n",
       "      <th>312</th>\n",
       "      <td>Комплаенс-специалист</td>\n",
       "      <td>3</td>\n",
       "    </tr>\n",
       "    <tr>\n",
       "      <th>313</th>\n",
       "      <td>Маркетинг в ресторанном бизнесе</td>\n",
       "      <td>2</td>\n",
       "    </tr>\n",
       "    <tr>\n",
       "      <th>314</th>\n",
       "      <td>Аналитик данных с нуля</td>\n",
       "      <td>6</td>\n",
       "    </tr>\n",
       "    <tr>\n",
       "      <th>315</th>\n",
       "      <td>Концепт-арт в кино</td>\n",
       "      <td>3</td>\n",
       "    </tr>\n",
       "    <tr>\n",
       "      <th>316</th>\n",
       "      <td>Здоровая самооценка. Как обрести уверенность, ...</td>\n",
       "      <td>2</td>\n",
       "    </tr>\n",
       "  </tbody>\n",
       "</table>\n",
       "<p>317 rows × 2 columns</p>\n",
       "</div>"
      ],
      "text/plain": [
       "                                                  Name Count_of_Mounth\n",
       "0          Бизнес-английский: навыки деловой переписки              3 \n",
       "1     Разработка стратегии в условиях неопределенности              8 \n",
       "2                                      Project Manager              4 \n",
       "3                      Управление разработкой продукта              1 \n",
       "4                             Нематериальная мотивация              2 \n",
       "..                                                 ...             ...\n",
       "312                               Комплаенс-специалист              3 \n",
       "313                    Маркетинг в ресторанном бизнесе              2 \n",
       "314                             Аналитик данных с нуля              6 \n",
       "315                                 Концепт-арт в кино              3 \n",
       "316  Здоровая самооценка. Как обрести уверенность, ...              2 \n",
       "\n",
       "[317 rows x 2 columns]"
      ]
     },
     "execution_count": 90,
     "metadata": {},
     "output_type": "execute_result"
    }
   ],
   "source": [
    "df"
   ]
  },
  {
   "cell_type": "code",
   "execution_count": 91,
   "id": "46c71ba8",
   "metadata": {},
   "outputs": [],
   "source": [
    "df.to_excel(\"skillbox_courses.xlsx\",\n",
    "             sheet_name='Sheet_name_1') "
   ]
  },
  {
   "cell_type": "code",
   "execution_count": null,
   "id": "66b1731f",
   "metadata": {},
   "outputs": [],
   "source": []
  }
 ],
 "metadata": {
  "kernelspec": {
   "display_name": "Python 3",
   "language": "python",
   "name": "python3"
  },
  "language_info": {
   "codemirror_mode": {
    "name": "ipython",
    "version": 3
   },
   "file_extension": ".py",
   "mimetype": "text/x-python",
   "name": "python",
   "nbconvert_exporter": "python",
   "pygments_lexer": "ipython3",
   "version": "3.8.8"
  }
 },
 "nbformat": 4,
 "nbformat_minor": 5
}
