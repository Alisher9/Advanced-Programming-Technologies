{
 "cells": [
  {
   "cell_type": "code",
   "execution_count": 1,
   "id": "5b10fb7c",
   "metadata": {},
   "outputs": [],
   "source": [
    "import requests\n",
    "import re # regular expressions\n",
    "from bs4 import BeautifulSoup\n",
    "from selenium import webdriver\n",
    "import pandas as pd"
   ]
  },
  {
   "cell_type": "code",
   "execution_count": 2,
   "id": "1b6f69a0",
   "metadata": {},
   "outputs": [],
   "source": [
    "CHROME_DRIVER_PATH = r'C:\\Users\\FLOX\\ChromeDriver\\chromedriver.exe'\n",
    "driver = webdriver.Chrome(CHROME_DRIVER_PATH)"
   ]
  },
  {
   "cell_type": "code",
   "execution_count": 3,
   "id": "9d5d1f20",
   "metadata": {},
   "outputs": [],
   "source": [
    "# step 1\n",
    "URL = 'https://www.datacamp.com/search?tab=courses'"
   ]
  },
  {
   "cell_type": "code",
   "execution_count": 4,
   "id": "10a204c5",
   "metadata": {},
   "outputs": [],
   "source": [
    "driver.get(URL)"
   ]
  },
  {
   "cell_type": "code",
   "execution_count": 5,
   "id": "1e8fa770",
   "metadata": {},
   "outputs": [],
   "source": [
    "content = driver.page_source\n",
    "soup = BeautifulSoup(content)"
   ]
  },
  {
   "cell_type": "code",
   "execution_count": 7,
   "id": "12f61626",
   "metadata": {},
   "outputs": [],
   "source": [
    "names = []\n",
    "time = []\n",
    "for block in soup.findAll('article', attrs={'class':'dc-card dc-card--bordered dc-card--interactive dc-global-search-result'}):\n",
    "    name_str = block.find('div', attrs={'class': 'dc-global-search-result__content'}).text\n",
    "    time_str = block.find('div', attrs={'class': 'dc-u-fs-small'}).text\n",
    "    names.append(name_str)\n",
    "    time.append(time_str)"
   ]
  },
  {
   "cell_type": "code",
   "execution_count": 53,
   "id": "ba209e35",
   "metadata": {},
   "outputs": [],
   "source": [
    "data = {\n",
    "    'Course name and description': names,\n",
    "    'Time and other info': time\n",
    "}\n",
    "df = pd.DataFrame(data)"
   ]
  },
  {
   "cell_type": "code",
   "execution_count": 54,
   "id": "e50455e9",
   "metadata": {},
   "outputs": [],
   "source": [
    "df = df.replace('\\n','-', regex=True)"
   ]
  },
  {
   "cell_type": "code",
   "execution_count": 40,
   "id": "48f9e870",
   "metadata": {},
   "outputs": [],
   "source": [
    "df = df.replace(r'(,)*',',', regex=True)"
   ]
  },
  {
   "cell_type": "code",
   "execution_count": 55,
   "id": "53624380",
   "metadata": {
    "scrolled": false
   },
   "outputs": [
    {
     "data": {
      "text/html": [
       "<div>\n",
       "<style scoped>\n",
       "    .dataframe tbody tr th:only-of-type {\n",
       "        vertical-align: middle;\n",
       "    }\n",
       "\n",
       "    .dataframe tbody tr th {\n",
       "        vertical-align: top;\n",
       "    }\n",
       "\n",
       "    .dataframe thead th {\n",
       "        text-align: right;\n",
       "    }\n",
       "</style>\n",
       "<table border=\"1\" class=\"dataframe\">\n",
       "  <thead>\n",
       "    <tr style=\"text-align: right;\">\n",
       "      <th></th>\n",
       "      <th>Course name and description</th>\n",
       "      <th>Time and other info</th>\n",
       "    </tr>\n",
       "  </thead>\n",
       "  <tbody>\n",
       "    <tr>\n",
       "      <th>0</th>\n",
       "      <td>-Introduction to Python--          Master the ...</td>\n",
       "      <td>-------4 hours--------Programming--------Hugo ...</td>\n",
       "    </tr>\n",
       "    <tr>\n",
       "      <th>1</th>\n",
       "      <td>-Introduction to SQL--          Master the bas...</td>\n",
       "      <td>-------4 hours--------Programming--------Nick ...</td>\n",
       "    </tr>\n",
       "    <tr>\n",
       "      <th>2</th>\n",
       "      <td>-Introduction to R--          Master the basic...</td>\n",
       "      <td>-------4 hours--------Programming--------Jonat...</td>\n",
       "    </tr>\n",
       "    <tr>\n",
       "      <th>3</th>\n",
       "      <td>-Data Science for Everyone--          An intro...</td>\n",
       "      <td>-------2 hours--------Other--------Hadrien Lac...</td>\n",
       "    </tr>\n",
       "    <tr>\n",
       "      <th>4</th>\n",
       "      <td>-Intermediate Python--          Level up your ...</td>\n",
       "      <td>-------4 hours--------Programming--------Hugo ...</td>\n",
       "    </tr>\n",
       "    <tr>\n",
       "      <th>...</th>\n",
       "      <td>...</td>\n",
       "      <td>...</td>\n",
       "    </tr>\n",
       "    <tr>\n",
       "      <th>95</th>\n",
       "      <td>-ASL Recognition with Deep Learning--         ...</td>\n",
       "      <td>-------45 minutes--------Data Manipulation, Da...</td>\n",
       "    </tr>\n",
       "    <tr>\n",
       "      <th>96</th>\n",
       "      <td>-Which Debts Are Worth the Bank's Effort?--   ...</td>\n",
       "      <td>-------45 minutes--------Data Manipulation, Da...</td>\n",
       "    </tr>\n",
       "    <tr>\n",
       "      <th>97</th>\n",
       "      <td>-Predict Taxi Fares with Random Forests--     ...</td>\n",
       "      <td>-------45 minutes--------Data Visualization, M...</td>\n",
       "    </tr>\n",
       "    <tr>\n",
       "      <th>98</th>\n",
       "      <td>-Dr. Semmelweis and the Discovery of Handwashi...</td>\n",
       "      <td>-------60 minutes--------Data Manipulation, Da...</td>\n",
       "    </tr>\n",
       "    <tr>\n",
       "      <th>99</th>\n",
       "      <td>-Drunken Datetimes in Ames, Iowa--          Ap...</td>\n",
       "      <td>-------45 minutes--------Data Manipulation, Da...</td>\n",
       "    </tr>\n",
       "  </tbody>\n",
       "</table>\n",
       "<p>100 rows × 2 columns</p>\n",
       "</div>"
      ],
      "text/plain": [
       "                          Course name and description  \\\n",
       "0   -Introduction to Python--          Master the ...   \n",
       "1   -Introduction to SQL--          Master the bas...   \n",
       "2   -Introduction to R--          Master the basic...   \n",
       "3   -Data Science for Everyone--          An intro...   \n",
       "4   -Intermediate Python--          Level up your ...   \n",
       "..                                                ...   \n",
       "95  -ASL Recognition with Deep Learning--         ...   \n",
       "96  -Which Debts Are Worth the Bank's Effort?--   ...   \n",
       "97  -Predict Taxi Fares with Random Forests--     ...   \n",
       "98  -Dr. Semmelweis and the Discovery of Handwashi...   \n",
       "99  -Drunken Datetimes in Ames, Iowa--          Ap...   \n",
       "\n",
       "                                  Time and other info  \n",
       "0   -------4 hours--------Programming--------Hugo ...  \n",
       "1   -------4 hours--------Programming--------Nick ...  \n",
       "2   -------4 hours--------Programming--------Jonat...  \n",
       "3   -------2 hours--------Other--------Hadrien Lac...  \n",
       "4   -------4 hours--------Programming--------Hugo ...  \n",
       "..                                                ...  \n",
       "95  -------45 minutes--------Data Manipulation, Da...  \n",
       "96  -------45 minutes--------Data Manipulation, Da...  \n",
       "97  -------45 minutes--------Data Visualization, M...  \n",
       "98  -------60 minutes--------Data Manipulation, Da...  \n",
       "99  -------45 minutes--------Data Manipulation, Da...  \n",
       "\n",
       "[100 rows x 2 columns]"
      ]
     },
     "execution_count": 55,
     "metadata": {},
     "output_type": "execute_result"
    }
   ],
   "source": [
    "df"
   ]
  },
  {
   "cell_type": "code",
   "execution_count": 56,
   "id": "804b6efe",
   "metadata": {},
   "outputs": [],
   "source": [
    "df.to_excel(\"datacamp_courses.xlsx\",\n",
    "             sheet_name='Sheet_name_1')  "
   ]
  },
  {
   "cell_type": "code",
   "execution_count": null,
   "id": "45bb7186",
   "metadata": {},
   "outputs": [],
   "source": []
  }
 ],
 "metadata": {
  "kernelspec": {
   "display_name": "Python 3",
   "language": "python",
   "name": "python3"
  },
  "language_info": {
   "codemirror_mode": {
    "name": "ipython",
    "version": 3
   },
   "file_extension": ".py",
   "mimetype": "text/x-python",
   "name": "python",
   "nbconvert_exporter": "python",
   "pygments_lexer": "ipython3",
   "version": "3.8.8"
  }
 },
 "nbformat": 4,
 "nbformat_minor": 5
}
