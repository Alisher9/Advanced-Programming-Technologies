{
 "cells": [
  {
   "cell_type": "code",
   "execution_count": 7,
   "id": "76eb19b0",
   "metadata": {},
   "outputs": [],
   "source": [
    "import requests\n",
    "import re # regular expressions\n",
    "from bs4 import BeautifulSoup\n",
    "from selenium import webdriver\n",
    "import pandas as pd"
   ]
  },
  {
   "cell_type": "code",
   "execution_count": 8,
   "id": "2543bf4d",
   "metadata": {},
   "outputs": [],
   "source": [
    "# step 1\n",
    "URL = 'https://openu.kz/ru/courses'"
   ]
  },
  {
   "cell_type": "code",
   "execution_count": 9,
   "id": "cfa5356a",
   "metadata": {},
   "outputs": [],
   "source": [
    "# first method: requests\n",
    "page = requests.get(URL)"
   ]
  },
  {
   "cell_type": "code",
   "execution_count": 10,
   "id": "699c8f82",
   "metadata": {},
   "outputs": [],
   "source": [
    "page_str = page.text"
   ]
  },
  {
   "cell_type": "code",
   "execution_count": 11,
   "id": "759198c2",
   "metadata": {},
   "outputs": [
    {
     "data": {
      "text/plain": [
       "'<!DOCTYPE HTML>\\n<html lang=\"en-US\">\\n<head>\\n  <meta charset=\"UTF-8\" />\\n  <meta http-equiv=\"Content-Ty'"
      ]
     },
     "execution_count": 11,
     "metadata": {},
     "output_type": "execute_result"
    }
   ],
   "source": [
    "page_str[:100]"
   ]
  },
  {
   "cell_type": "code",
   "execution_count": 13,
   "id": "8fab99bd",
   "metadata": {},
   "outputs": [
    {
     "data": {
      "text/plain": [
       "-1"
      ]
     },
     "execution_count": 13,
     "metadata": {},
     "output_type": "execute_result"
    }
   ],
   "source": [
    "page_str.find('<article class=\"dc-card dc-card--bordered dc-card--interactive dc-global-search-result\"')"
   ]
  },
  {
   "cell_type": "code",
   "execution_count": 14,
   "id": "542beed9",
   "metadata": {},
   "outputs": [],
   "source": [
    "CHROME_DRIVER_PATH = r'C:\\Users\\FLOX\\ChromeDriver\\chromedriver.exe'\n",
    "driver = webdriver.Chrome(CHROME_DRIVER_PATH)"
   ]
  },
  {
   "cell_type": "code",
   "execution_count": 15,
   "id": "ee03bfce",
   "metadata": {},
   "outputs": [],
   "source": [
    "driver.get(URL)"
   ]
  },
  {
   "cell_type": "code",
   "execution_count": 16,
   "id": "938aacba",
   "metadata": {},
   "outputs": [],
   "source": [
    "content = driver.page_source\n",
    "soup = BeautifulSoup(content)"
   ]
  },
  {
   "cell_type": "code",
   "execution_count": 13,
   "id": "568ddfe5",
   "metadata": {},
   "outputs": [],
   "source": [
    "block = soup.find('a', attrs={'class':'course-block'})"
   ]
  },
  {
   "cell_type": "code",
   "execution_count": 14,
   "id": "fe8503ec",
   "metadata": {},
   "outputs": [
    {
     "data": {
      "text/plain": [
       "<a class=\"course-block\" data-date=\"2021-09-02 10:48:24\" data-id=\"249\" data-name=\"Постклассическая философия XIX-XX вв.\" href=\"/ru/courses/postklassicheskaya-filosofiya-xix-xx-vv\">\n",
       "<div class=\"course-block__image\" style=\"background-image: url(/uploads/courses/249/img_preview_postklassicheskaya_filoso_ru_1630558553.jpeg);\"></div>\n",
       "<div class=\"course-block__content-wrapper\">\n",
       "<div class=\"course-block__progress-wrapper\">\n",
       "</div>\n",
       "<div class=\"course-block__status-bar\">\n",
       "<div class=\"course-block__status-free\">Бесплатно</div>\n",
       "</div>\n",
       "<div class=\"course-block__title\">\n",
       "<span>Постклассическая философия XIX-XX вв.</span>\n",
       "</div>\n",
       "<div class=\"course-block__bottom-wrapper\">\n",
       "<div data-target=\"#modal-login\" data-toggle=\"modal\">\n",
       "<ul class=\"rating-block__scale-wrapper\" data-rating=\"0\">\n",
       "<i class=\"course_rating material-icons\" data-rating=\"5\"></i>\n",
       "<i class=\"course_rating material-icons\" data-rating=\"4\"></i>\n",
       "<i class=\"course_rating material-icons\" data-rating=\"3\"></i>\n",
       "<i class=\"course_rating material-icons\" data-rating=\"2\"></i>\n",
       "<i class=\"course_rating material-icons\" data-rating=\"1\"></i>\n",
       "</ul>\n",
       "</div>\n",
       "<div class=\"favorite-block favorite-block_status_added\" data-target=\"#modal-login\" data-toggle=\"modal\">\n",
       "<div class=\"favorite-block__button not-favorite-course favorite-block__button_guest\"></div>\n",
       "<div class=\"favorite-block__label\" data-state=\"Избранные курсы\">В избранное</div>\n",
       "</div>\n",
       "</div>\n",
       "</div>\n",
       "</a>"
      ]
     },
     "execution_count": 14,
     "metadata": {},
     "output_type": "execute_result"
    }
   ],
   "source": [
    "block"
   ]
  },
  {
   "cell_type": "code",
   "execution_count": 15,
   "id": "5425900f",
   "metadata": {},
   "outputs": [],
   "source": [
    "name = block.find('div', attrs={'class': 'course-block__status-free'})"
   ]
  },
  {
   "cell_type": "code",
   "execution_count": 33,
   "id": "b17f6558",
   "metadata": {},
   "outputs": [],
   "source": [
    "names = []\n",
    "prices = []\n",
    "for block in soup.findAll('a', attrs={'class':'course-block'}):\n",
    "    name_str = block.find('div', attrs={'class': 'course-block__title'}).text\n",
    "    price_str = block.find('div', attrs={'class': 'course-block__status-free'}).text\n",
    "    names.append(name_str)\n",
    "    prices.append(price_str)"
   ]
  },
  {
   "cell_type": "code",
   "execution_count": 19,
   "id": "de93d294",
   "metadata": {},
   "outputs": [],
   "source": [
    "data = {\n",
    "    'name': names,\n",
    "    'price': prices\n",
    "}\n",
    "df = pd.DataFrame(data)"
   ]
  },
  {
   "cell_type": "code",
   "execution_count": 29,
   "id": "4631b326",
   "metadata": {},
   "outputs": [],
   "source": [
    "n1=df.name.str.strip('\\n')"
   ]
  },
  {
   "cell_type": "code",
   "execution_count": 31,
   "id": "495fb2e6",
   "metadata": {},
   "outputs": [],
   "source": [
    "data = {\n",
    "    'name': n1,\n",
    "    'price': prices\n",
    "}\n",
    "df = pd.DataFrame(data)"
   ]
  },
  {
   "cell_type": "code",
   "execution_count": 32,
   "id": "99b3d6ba",
   "metadata": {},
   "outputs": [
    {
     "data": {
      "text/html": [
       "<div>\n",
       "<style scoped>\n",
       "    .dataframe tbody tr th:only-of-type {\n",
       "        vertical-align: middle;\n",
       "    }\n",
       "\n",
       "    .dataframe tbody tr th {\n",
       "        vertical-align: top;\n",
       "    }\n",
       "\n",
       "    .dataframe thead th {\n",
       "        text-align: right;\n",
       "    }\n",
       "</style>\n",
       "<table border=\"1\" class=\"dataframe\">\n",
       "  <thead>\n",
       "    <tr style=\"text-align: right;\">\n",
       "      <th></th>\n",
       "      <th>name</th>\n",
       "      <th>price</th>\n",
       "    </tr>\n",
       "  </thead>\n",
       "  <tbody>\n",
       "    <tr>\n",
       "      <th>0</th>\n",
       "      <td>Постклассическая философия XIX-XX вв.</td>\n",
       "      <td>Бесплатно</td>\n",
       "    </tr>\n",
       "    <tr>\n",
       "      <th>1</th>\n",
       "      <td>Социальная работа</td>\n",
       "      <td>Бесплатно</td>\n",
       "    </tr>\n",
       "    <tr>\n",
       "      <th>2</th>\n",
       "      <td>Политология</td>\n",
       "      <td>Бесплатно</td>\n",
       "    </tr>\n",
       "    <tr>\n",
       "      <th>3</th>\n",
       "      <td>Основы рефлективного обучения</td>\n",
       "      <td>Бесплатно</td>\n",
       "    </tr>\n",
       "    <tr>\n",
       "      <th>4</th>\n",
       "      <td>Этническое происхождение наций</td>\n",
       "      <td>Бесплатно</td>\n",
       "    </tr>\n",
       "    <tr>\n",
       "      <th>5</th>\n",
       "      <td>Как стать лучшим учителем начальной школы</td>\n",
       "      <td>Бесплатно</td>\n",
       "    </tr>\n",
       "    <tr>\n",
       "      <th>6</th>\n",
       "      <td>Методы социальных исследований</td>\n",
       "      <td>Бесплатно</td>\n",
       "    </tr>\n",
       "    <tr>\n",
       "      <th>7</th>\n",
       "      <td>Исламская философия: учебник</td>\n",
       "      <td>Бесплатно</td>\n",
       "    </tr>\n",
       "    <tr>\n",
       "      <th>8</th>\n",
       "      <td>История западной философии</td>\n",
       "      <td>Бесплатно</td>\n",
       "    </tr>\n",
       "    <tr>\n",
       "      <th>9</th>\n",
       "      <td>Стратегический бренд-менеджмент</td>\n",
       "      <td>Бесплатно</td>\n",
       "    </tr>\n",
       "    <tr>\n",
       "      <th>10</th>\n",
       "      <td>Управление малым бизнесом: создание и развитие...</td>\n",
       "      <td>Бесплатно</td>\n",
       "    </tr>\n",
       "    <tr>\n",
       "      <th>11</th>\n",
       "      <td>Государственная политика</td>\n",
       "      <td>Бесплатно</td>\n",
       "    </tr>\n",
       "  </tbody>\n",
       "</table>\n",
       "</div>"
      ],
      "text/plain": [
       "                                                 name      price\n",
       "0               Постклассическая философия XIX-XX вв.  Бесплатно\n",
       "1                                   Социальная работа  Бесплатно\n",
       "2                                         Политология  Бесплатно\n",
       "3                       Основы рефлективного обучения  Бесплатно\n",
       "4                      Этническое происхождение наций  Бесплатно\n",
       "5           Как стать лучшим учителем начальной школы  Бесплатно\n",
       "6                      Методы социальных исследований  Бесплатно\n",
       "7                        Исламская философия: учебник  Бесплатно\n",
       "8                          История западной философии  Бесплатно\n",
       "9                     Стратегический бренд-менеджмент  Бесплатно\n",
       "10  Управление малым бизнесом: создание и развитие...  Бесплатно\n",
       "11                           Государственная политика  Бесплатно"
      ]
     },
     "execution_count": 32,
     "metadata": {},
     "output_type": "execute_result"
    }
   ],
   "source": [
    "df"
   ]
  },
  {
   "cell_type": "code",
   "execution_count": 37,
   "id": "b3742bcc",
   "metadata": {},
   "outputs": [],
   "source": [
    "df.to_excel(\"output.xlsx\",\n",
    "             sheet_name='Sheet_name_1')  "
   ]
  },
  {
   "cell_type": "code",
   "execution_count": null,
   "id": "41d385eb",
   "metadata": {},
   "outputs": [],
   "source": []
  }
 ],
 "metadata": {
  "kernelspec": {
   "display_name": "Python 3",
   "language": "python",
   "name": "python3"
  },
  "language_info": {
   "codemirror_mode": {
    "name": "ipython",
    "version": 3
   },
   "file_extension": ".py",
   "mimetype": "text/x-python",
   "name": "python",
   "nbconvert_exporter": "python",
   "pygments_lexer": "ipython3",
   "version": "3.8.8"
  }
 },
 "nbformat": 4,
 "nbformat_minor": 5
}
